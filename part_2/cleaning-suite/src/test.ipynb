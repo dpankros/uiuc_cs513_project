{
 "cells": [
  {
   "cell_type": "code",
   "id": "initial_id",
   "metadata": {
    "collapsed": true,
    "jupyter": {
     "is_executing": true
    }
   },
   "source": "from importer2.openrefine import Project, Server",
   "outputs": [],
   "execution_count": null
  },
  {
   "metadata": {
    "ExecuteTime": {
     "end_time": "2024-07-15T20:29:52.214232Z",
     "start_time": "2024-07-15T20:29:51.835408Z"
    }
   },
   "cell_type": "code",
   "source": [
    "server = Server()\n",
    "project = server.create_project_from_file('../../../data/Dish_sm.csv', 'Dish')"
   ],
   "id": "d5b9533999f58876",
   "outputs": [],
   "execution_count": 2
  },
  {
   "metadata": {
    "ExecuteTime": {
     "end_time": "2024-07-15T20:29:52.275995Z",
     "start_time": "2024-07-15T20:29:52.215682Z"
    }
   },
   "cell_type": "code",
   "source": [
    "op = [\n",
    "    {\n",
    "        \"op\": \"core/column-addition\",\n",
    "        \"engineConfig\": {\n",
    "            \"facets\": [],\n",
    "            \"mode\": \"row-based\"\n",
    "        },\n",
    "        \"baseColumnName\": \"name\",\n",
    "        \"expression\": 'grel:value.trim().toLowercase().replace(\\\" & \\\",\\\" and \\\").replace(/[\\\\;\\\\:\\\\.\\\\,\\\\>\\\\<\\\\/\\\\?\\\\[\\\\]\\\\{\\\\}\\\\(\\\\)\\\\*\\\\&\\\\^\\\\%\\\\$\\\\#\\\\@\\\\!\\\\-\\\\+\\\\=\\\\_]/, \\\"\\\")',\n",
    "        \"onError\": \"set-to-blank\",\n",
    "        \"newColumnName\": \"norm_name\",\n",
    "        \"columnInsertIndex\": 2,\n",
    "        \"description\": \"Create column norm_name\"\n",
    "    }\n",
    "\n",
    "]\n",
    "\n",
    "project.apply_operations(op)\n"
   ],
   "id": "b00f6815e061307f",
   "outputs": [
    {
     "data": {
      "text/plain": [
       "Project(id=2514633055459; server=http://localhost:3333)"
      ]
     },
     "execution_count": 3,
     "metadata": {},
     "output_type": "execute_result"
    }
   ],
   "execution_count": 3
  },
  {
   "metadata": {
    "ExecuteTime": {
     "end_time": "2024-07-15T20:29:52.438320Z",
     "start_time": "2024-07-15T20:29:52.276821Z"
    }
   },
   "cell_type": "code",
   "source": [
    "# project.compute_facets('norm_name')\n",
    "project.cluster_column('norm_name')"
   ],
   "id": "5e2183edf6fd9e2d",
   "outputs": [
    {
     "data": {
      "text/plain": [
       "Project(id=2514633055459; server=http://localhost:3333)"
      ]
     },
     "execution_count": 4,
     "metadata": {},
     "output_type": "execute_result"
    }
   ],
   "execution_count": 4
  },
  {
   "metadata": {
    "ExecuteTime": {
     "end_time": "2024-07-15T20:29:52.441670Z",
     "start_time": "2024-07-15T20:29:52.439701Z"
    }
   },
   "cell_type": "code",
   "source": "project.get_project_url()",
   "id": "87d59875560a6832",
   "outputs": [
    {
     "data": {
      "text/plain": [
       "'http://localhost:3333/project?project=2514633055459'"
      ]
     },
     "execution_count": 5,
     "metadata": {},
     "output_type": "execute_result"
    }
   ],
   "execution_count": 5
  },
  {
   "metadata": {
    "ExecuteTime": {
     "end_time": "2024-07-15T20:29:52.444275Z",
     "start_time": "2024-07-15T20:29:52.442446Z"
    }
   },
   "cell_type": "code",
   "source": [
    "def delete_all_projects(server):\n",
    "    for p in server.get_all_projects():\n",
    "        print(f\"Deleting {p.id}:\", server.delete_project(p.id))\n",
    "\n",
    "\n",
    "# delete_all_projects(server)"
   ],
   "id": "f7a4d0f522b1588f",
   "outputs": [],
   "execution_count": 6
  }
 ],
 "metadata": {
  "kernelspec": {
   "display_name": "Python 3",
   "language": "python",
   "name": "python3"
  },
  "language_info": {
   "codemirror_mode": {
    "name": "ipython",
    "version": 2
   },
   "file_extension": ".py",
   "mimetype": "text/x-python",
   "name": "python",
   "nbconvert_exporter": "python",
   "pygments_lexer": "ipython2",
   "version": "2.7.6"
  }
 },
 "nbformat": 4,
 "nbformat_minor": 5
}

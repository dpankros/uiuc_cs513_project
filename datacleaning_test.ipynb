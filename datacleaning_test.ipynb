{
 "cells": [
  {
   "cell_type": "code",
   "id": "9c26422bcc5a8f05",
   "metadata": {
    "collapsed": true,
    "ExecuteTime": {
     "end_time": "2024-07-15T19:53:11.927563Z",
     "start_time": "2024-07-15T19:53:11.915341Z"
    }
   },
   "source": [
    "# import requests\n",
    "# import re\n",
    "# import urllib.parse\n",
    "# import json\n",
    "# import io\n",
    "# import functools\n",
    "# \n",
    "# class Project:\n",
    "#     def __init__(self, id:int, server=None):\n",
    "#         if not id:\n",
    "#             raise Exception('Invalid project id')\n",
    "# \n",
    "#         self.id = id\n",
    "#         self.server: Server = server\n",
    "# \n",
    "#     def __repr__(self):\n",
    "#         return f\"Project(id={self.id}; server={self.server.url})\"\n",
    "# \n",
    "#     def get_models(self):\n",
    "#         return self.server.get(\n",
    "#             'command/core/get-models',\n",
    "#             query={'project': self.id}\n",
    "#         ).json()\n",
    "# \n",
    "#     def get_project_url(self):\n",
    "#         return f\"{self.server.url}/project?project={self.id}\"\n",
    "# \n",
    "#     def apply_operations(self, operations_json: list):\n",
    "#         try:\n",
    "#             r = self.server.post(\n",
    "#                 'command/core/apply-operations',\n",
    "#                 query={'project': self.id},  # the docs say this is where it belongs, but reality says it's in the data\n",
    "#                 data={\n",
    "#                     'project': self.id,\n",
    "#                     'operations': json.dumps(operations_json)\n",
    "#                 }\n",
    "#             ).json()\n",
    "#         except Exception as e:\n",
    "#             raise Exception(f\"Apply Operations failed\") from e\n",
    "#         \n",
    "#         if not r['code'] == 'ok':\n",
    "#             raise Exception(f\"Apply Operations failed: {r['message']}\")\n",
    "#         \n",
    "#         return self\n",
    "# \n",
    "#     def get_history(self):\n",
    "#         return self.server.get(\n",
    "#             'command/core/get-history',\n",
    "#             query={'project': self.id}\n",
    "#         ).json()\n",
    "# \n",
    "#     def get_rows(self, start=0, limit=50):\n",
    "#         return self.server.get(\n",
    "#             'command/core/get-rows',\n",
    "#             query={\n",
    "#                 'project': self.id,\n",
    "#                 'start': start,\n",
    "#                 'limit': limit,\n",
    "#             }\n",
    "#         ).json()\n",
    "# \n",
    "#     def compute_facets(self, column: str):\n",
    "#         r = self.server.post(\n",
    "#             'command/core/compute-facets',\n",
    "#             query={'project': self.id},  # the docs say this is where it belongs, but reality says it's in the data\n",
    "#             data={\n",
    "#                 \"engine\": json.dumps({\n",
    "#                     \"facets\": [\n",
    "#                         {\n",
    "#                             \"type\": \"list\",\n",
    "#                             \"name\": column,\n",
    "#                             \"columnName\": column,\n",
    "#                             \"expression\": \"value\",\n",
    "#                             \"omitBlank\": False,\n",
    "#                             \"omitError\": False,\n",
    "#                             \"selection\": [],\n",
    "#                             \"selectBlank\": False,\n",
    "#                             \"selectError\": False,\n",
    "#                             \"invert\": False\n",
    "#                         }\n",
    "#                     ],\n",
    "#                     \"mode\": \"row-based\"\n",
    "#                 })}\n",
    "#         ).json()\n",
    "# \n",
    "#         errors = functools.reduce(lambda a, v: [*a, v['error']] if v['error']  else a, r['facets'], [])\n",
    "# \n",
    "#         if len(errors) > 0:\n",
    "#             raise Exception(f\"Compute Facets Failed: {';'.join(errors)}\")\n",
    "#         \n",
    "#         return self\n",
    "# \n",
    "#     def compute_clusters(self, column: str, function: str = 'fingerprint', type: str = 'binning', params: map = {}):\n",
    "#         return self.server.post(\n",
    "#             'command/core/compute-clusters',\n",
    "#             query={'project': self.id},  # the docs say this is where it belongs, but reality says it's in the data\n",
    "#             data={\n",
    "#                 \"engine\": json.dumps({\n",
    "#                     \"facets\": [],\n",
    "#                     \"mode\": \"row-based\"\n",
    "#                 }),\n",
    "#                 \"clusterer\": json.dumps({\n",
    "#                     \"type\": type,\n",
    "#                     \"function\": function,\n",
    "#                     \"column\": column,\n",
    "#                     \"params\": params\n",
    "#                 })\n",
    "#             }\n",
    "#         ).json()\n",
    "# \n",
    "#     def mass_edit(self, column: str, edits: list = []):\n",
    "#         return self.server.post(\n",
    "#             'command/core/mass-edit',\n",
    "#             query={'project': self.id},  # the docs say this is where it belongs, but reality says it's in the data\n",
    "#             data={\n",
    "#                 \"columnName\": column,\n",
    "#                 \"expression\": \"value\",\n",
    "#                 \"edits\": json.dumps(edits),\n",
    "#                 \"engine\": json.dumps({\"facets\": [], \"mode\": \"row-based\"})\n",
    "#             }\n",
    "#         ).json()\n",
    "# \n",
    "#     def export_rows(self, filename = 'data.csv', format=\"csv\"):\n",
    "#         content = self.server.post(\n",
    "#             'command/core/export-rows',\n",
    "#             query={\n",
    "#                 'project': self.id, \n",
    "#                 'format': 'csv'\n",
    "#             },\n",
    "#             data={\n",
    "#                 \"engine\": json.dumps({\"facets\": [], \"mode\": \"row-based\"})\n",
    "#             }\n",
    "#         ).text\n",
    "#         with open(filename, 'w') as file:\n",
    "#             file.write(content)\n",
    "#         return content\n",
    "# \n",
    "#     def cluster_column(self, column: str):\n",
    "#         # [ [{ v: \"str VALUE\", \"c\": int count? }, { v: \"str VALUE\", \"c\": int count? }, ...], ... ]\n",
    "#         cluster_data = self.compute_clusters(column)\n",
    "#         # [ {from: [\"str\", \"str\"], \"to\": \"str\"}, ...]\n",
    "#         mass_edit_data = []  \n",
    "#         # print(f\"Cluster Data: {cluster_data}\")\n",
    "#         for cluster_list in cluster_data:\n",
    "#             # print(f\"Cluster List: {cluster_list}\")\n",
    "#             to_value = cluster_list[0]['v']\n",
    "#             from_values = [value['v'] for value in cluster_list]\n",
    "#             mass_edit_data.append({'from': from_values, 'to': to_value})\n",
    "#         \n",
    "#         r = self.mass_edit(column, edits = mass_edit_data)\n",
    "#         if not r['code'] == 'ok':\n",
    "#             # print(r)\n",
    "#             raise Exception(f\"Cluster failed: {r['message']}\")\n",
    "#         \n",
    "#         return self\n",
    "#         \n",
    "# \n",
    "# \n",
    "# class Server:\n",
    "#     def __init__(self, url: str = \"http://localhost:3333\"):\n",
    "#         self.url = url\n",
    "#         self.token = None\n",
    "# \n",
    "#     @property\n",
    "#     def is_connected(self):\n",
    "#         return self.token is not None\n",
    "# \n",
    "#     def get_csrf_token(self) -> str:\n",
    "#         response = requests.get(f'{self.url}/command/core/get-csrf-token')\n",
    "#         j = response.json()\n",
    "#         if 'token' not in j:\n",
    "#             raise Exception(\"Invalid response\")\n",
    "# \n",
    "#         return j['token']\n",
    "# \n",
    "#     def connect(self):\n",
    "#         self.token = self.get_csrf_token()\n",
    "#         return self\n",
    "# \n",
    "#     def disconnect(self):\n",
    "#         self.token = None\n",
    "#         return self\n",
    "# \n",
    "#     def get(self, path, query=None, headers=None, *args, **kwargs):\n",
    "#         self.connect()\n",
    "# \n",
    "#         if query is None:\n",
    "#             query = {}\n",
    "#         q = urllib.parse.urlencode({**query, 'csrf_token': self.token})\n",
    "# \n",
    "#         if headers is None:\n",
    "#             headers = {}\n",
    "# \n",
    "#         headers = {\n",
    "#             # 'Accept': 'application/xml,*/*;0.8',\n",
    "#             'Accept': 'application/json, text/javascript, */*; q=0.01',\n",
    "#             **headers\n",
    "#         }\n",
    "# \n",
    "#         r = requests.get(f\"{self.url}/{path}?{q}\", *args, headers=headers, **kwargs)\n",
    "# \n",
    "#         if r.status_code >= 400 and r.status_code < 500:\n",
    "#             raise Exception(f\"Invalid Request: Status Code {r.status_code}\")\n",
    "#         if r.status_code >= 500 and r.status_code < 600:\n",
    "#             raise Exception(f\"Internal Server Error: Status Code {r.status_code}\")\n",
    "# \n",
    "#         return r\n",
    "# \n",
    "#     def post(self, path, query=None, headers=None, *args, **kwargs):\n",
    "#         self.connect()\n",
    "# \n",
    "#         if query is None:\n",
    "#             query = {}\n",
    "#         q = urllib.parse.urlencode({**query, 'csrf_token': self.token})\n",
    "# \n",
    "#         if headers is None:\n",
    "#             headers = {}\n",
    "# \n",
    "#         headers = {\n",
    "#             'Accept': 'application/json, text/javascript, */*; q=0.01',\n",
    "#             **headers\n",
    "#         }\n",
    "# \n",
    "#         req = requests.Request('POST', f\"{self.url}/{path}?{q}\", *args, headers=headers, **kwargs)\n",
    "#         prepared_req = req.prepare()\n",
    "#         # print(f\"URL: {prepared_req.url}\")\n",
    "#         # print(f\"Headers: {prepared_req.headers}\")\n",
    "#         # print(f\"Body: {prepared_req.body}\")\n",
    "# \n",
    "#         with requests.Session() as session:\n",
    "#             r = session.send(prepared_req)\n",
    "#             # print(r.text)\n",
    "# \n",
    "#         if r.status_code >= 400 and r.status_code < 500:\n",
    "#             print(r.text)\n",
    "#             raise Exception(f\"Invalid Request: Status Code {r.status_code}\")\n",
    "#         if r.status_code >= 500 and r.status_code < 600:\n",
    "#             print(r.text)\n",
    "#             raise Exception(f\"Internal Server Error: Status Code {r.status_code}\")\n",
    "# \n",
    "#         return r\n",
    "# \n",
    "#     def create_project_from_file(self, file_path: str, name: str = 'New Project') -> Project:\n",
    "#         path = f'command/core/create-project-from-upload'\n",
    "#         files = {'project-file': open(file_path, 'rb')}\n",
    "#         data = {\n",
    "#             'project-name': 'New Project',\n",
    "#             'format': 'test/line-based/*sv',\n",
    "#             'options': {\n",
    "#                 # \"encoding\":\"UTF-8\",\n",
    "#                 # \"separator\":\",\",\n",
    "#                 # \"ignoreLines\":-1,\n",
    "#                 # \"headerLines\":1,\n",
    "#                 # \"skipDataLines\":0,\n",
    "#                 # \"limit\":-1,\n",
    "#                 # \"storeBlankRows\": True,\n",
    "#                 # \"guessCellValueTypes\": True,\n",
    "#                 # \"processQuotes\": True,\n",
    "#                 # \"quoteCharacter\": \"\\\"\",\n",
    "#                 # \"storeBlankCellsAsNulls\": True,\n",
    "#                 # \"includeFileSources\": False,\n",
    "#                 # \"includeArchiveFileName\": False,\n",
    "#                 # \"trimStrings\": False,\n",
    "#                 # \"disableAutoPreview\": False,\n",
    "#                 # \"projectName\": name,\n",
    "#                 # \"projectTags\":[]\n",
    "#             }\n",
    "#         }\n",
    "#         headers = {\n",
    "#             'Accept': 'application/xml,*/*;0.8',\n",
    "#         }\n",
    "#         r = self.post(path, data=data, files=files, headers=headers)\n",
    "# \n",
    "#         if not 'project=' in r.url:\n",
    "#             print(r.text)\n",
    "#             raise Exception('Project Creation Failure')\n",
    "# \n",
    "#         v = re.search(r'^.+project=(\\d+).*$', r.url, re.I | re.S)\n",
    "# \n",
    "#         return Project(int(v.group(1)), server=self)\n",
    "# \n",
    "#     def get_metadata(self):\n",
    "#         return self.get(\n",
    "#             'command/core/get-all-project-metadata',\n",
    "#         ).json()\n",
    "# \n",
    "#     def get_project(self, id: int):\n",
    "#         return Project(int(id), server=self)\n",
    "# \n",
    "#     def get_all_projects(self):\n",
    "#         metadata = self.get_metadata();\n",
    "#         r = set()\n",
    "#         for id, proj in metadata['projects'].items():\n",
    "#             r.add(Project(int(id), server=self))\n",
    "#         return r\n",
    "# \n",
    "#     def delete_project(self, project_id):\n",
    "#         data = {'project': project_id};\n",
    "#         return self.post(\n",
    "#             'command/core/delete-project',\n",
    "#             data=json.dumps(data),\n",
    "#             query=data,\n",
    "#         ).json()\n",
    "# \n",
    "#     def __repr__(self):\n",
    "#         return f\"Server(url={self.url}; token={self.token})\""
   ],
   "outputs": [],
   "execution_count": 120
  },
  {
   "metadata": {
    "ExecuteTime": {
     "end_time": "2024-07-15T19:53:12.289696Z",
     "start_time": "2024-07-15T19:53:12.288531Z"
    }
   },
   "cell_type": "code",
   "source": "\n",
   "id": "initial_id",
   "outputs": [],
   "execution_count": 120
  },
  {
   "metadata": {
    "ExecuteTime": {
     "end_time": "2024-07-15T19:53:12.607594Z",
     "start_time": "2024-07-15T19:53:12.605795Z"
    }
   },
   "cell_type": "code",
   "source": "server = Server()",
   "id": "95c6a7bc50821b44",
   "outputs": [],
   "execution_count": 121
  },
  {
   "metadata": {
    "ExecuteTime": {
     "end_time": "2024-07-15T19:53:13.360686Z",
     "start_time": "2024-07-15T19:53:12.968159Z"
    }
   },
   "cell_type": "code",
   "source": [
    "\n",
    "project = server.create_project_from_file('data/Dish_sm.csv', 'Dish')"
   ],
   "id": "c157d15005b21d19",
   "outputs": [],
   "execution_count": 122
  },
  {
   "metadata": {
    "ExecuteTime": {
     "end_time": "2024-07-15T19:53:13.433757Z",
     "start_time": "2024-07-15T19:53:13.361614Z"
    }
   },
   "cell_type": "code",
   "source": [
    "op = [\n",
    "    {\n",
    "        \"op\": \"core/column-addition\",\n",
    "        \"engineConfig\": {\n",
    "            \"facets\": [],\n",
    "            \"mode\": \"row-based\"\n",
    "        },\n",
    "        \"baseColumnName\": \"name\",\n",
    "        \"expression\": 'grel:value.trim().toLowercase().replace(\\\" & \\\",\\\" and \\\").replace(/[\\\\;\\\\:\\\\.\\\\,\\\\>\\\\<\\\\/\\\\?\\\\[\\\\]\\\\{\\\\}\\\\(\\\\)\\\\*\\\\&\\\\^\\\\%\\\\$\\\\#\\\\@\\\\!\\\\-\\\\+\\\\=\\\\_]/, \\\"\\\")',\n",
    "        \"onError\": \"set-to-blank\",\n",
    "        \"newColumnName\": \"norm_name\",\n",
    "        \"columnInsertIndex\": 2,\n",
    "        \"description\": \"Create column norm_name\"\n",
    "    }\n",
    "\n",
    "]\n",
    "\n",
    "project.apply_operations(op)\n"
   ],
   "id": "a86f75b6016bcec4",
   "outputs": [
    {
     "data": {
      "text/plain": [
       "Project(id=2598948882127; server=http://localhost:3333)"
      ]
     },
     "execution_count": 123,
     "metadata": {},
     "output_type": "execute_result"
    }
   ],
   "execution_count": 123
  },
  {
   "metadata": {
    "ExecuteTime": {
     "end_time": "2024-07-15T20:41:15.438513Z",
     "start_time": "2024-07-15T20:41:14.413442Z"
    }
   },
   "cell_type": "code",
   "source": [
    "# project.compute_facets('norm_name')\n",
    "project.cluster_column('norm_name')"
   ],
   "id": "d2befc33795d269a",
   "outputs": [
    {
     "data": {
      "text/plain": [
       "Project(id=2598948882127; server=http://localhost:3333)"
      ]
     },
     "execution_count": 125,
     "metadata": {},
     "output_type": "execute_result"
    }
   ],
   "execution_count": 125
  },
  {
   "metadata": {
    "ExecuteTime": {
     "end_time": "2024-07-15T20:41:18.668877Z",
     "start_time": "2024-07-15T20:41:18.666599Z"
    }
   },
   "cell_type": "code",
   "source": "project.get_project_url()",
   "id": "3bd8ca8b4f9bfe72",
   "outputs": [
    {
     "data": {
      "text/plain": [
       "'http://localhost:3333/project?project=2598948882127'"
      ]
     },
     "execution_count": 126,
     "metadata": {},
     "output_type": "execute_result"
    }
   ],
   "execution_count": 126
  },
  {
   "metadata": {},
   "cell_type": "code",
   "source": "project.export_rows()",
   "id": "a9446104ae1d6190",
   "outputs": [],
   "execution_count": null
  },
  {
   "metadata": {
    "ExecuteTime": {
     "end_time": "2024-07-15T19:23:41.916024Z",
     "start_time": "2024-07-15T19:23:41.794892Z"
    }
   },
   "cell_type": "code",
   "source": [
    "def delete_all_projects(server):\n",
    "    for p in server.get_all_projects():\n",
    "        print(f\"Deleting {p.id}:\", server.delete_project(p.id))\n",
    "\n",
    "\n",
    "# delete_all_projects(server)"
   ],
   "id": "f47db17c9f504b34",
   "outputs": [
    {
     "name": "stdout",
     "output_type": "stream",
     "text": [
      "Deleting 2052714969294: {'code': 'ok'}\n",
      "Deleting 2366856242127: {'code': 'ok'}\n",
      "Deleting 2212409039842: {'code': 'ok'}\n",
      "Deleting 1794677370548: {'code': 'ok'}\n"
     ]
    }
   ],
   "execution_count": 7
  },
  {
   "metadata": {},
   "cell_type": "code",
   "outputs": [],
   "execution_count": null,
   "source": "",
   "id": "a73539074c15b348"
  },
  {
   "metadata": {
    "ExecuteTime": {
     "end_time": "2024-07-17T17:24:29.339867Z",
     "start_time": "2024-07-17T17:24:29.335490Z"
    }
   },
   "cell_type": "code",
   "source": "None or 10",
   "id": "9d5334f96c31742b",
   "outputs": [
    {
     "data": {
      "text/plain": [
       "10"
      ]
     },
     "execution_count": 1,
     "metadata": {},
     "output_type": "execute_result"
    }
   ],
   "execution_count": 1
  },
  {
   "metadata": {},
   "cell_type": "code",
   "outputs": [],
   "execution_count": null,
   "source": "",
   "id": "5d9399decc29b8e9"
  }
 ],
 "metadata": {
  "kernelspec": {
   "display_name": "Python 3",
   "language": "python",
   "name": "python3"
  },
  "language_info": {
   "codemirror_mode": {
    "name": "ipython",
    "version": 2
   },
   "file_extension": ".py",
   "mimetype": "text/x-python",
   "name": "python",
   "nbconvert_exporter": "python",
   "pygments_lexer": "ipython2",
   "version": "2.7.6"
  }
 },
 "nbformat": 4,
 "nbformat_minor": 5
}
